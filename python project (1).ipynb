{
 "cells": [
  {
   "cell_type": "markdown",
   "id": "39780021-8379-4feb-83d9-dda08cc91c3b",
   "metadata": {},
   "source": [
    "## SNAKE GAME USING PYTHON"
   ]
  },
  {
   "cell_type": "markdown",
   "id": "9a133ced-d705-4f6f-a53e-877c2c23bb6b",
   "metadata": {},
   "source": [
    "## PYTHON TEAM 14\n",
    "## TEAM MEMBERS\n",
    "1.ROHAN SHELKE\n",
    " 2.OM LANGE\n",
    " 3.CHAITANYA JADHAV\n",
    " 4.YASHRAJ DHANWTE\n",
    " 5.ARYA SONAWANE"
   ]
  },
  {
   "cell_type": "code",
   "execution_count": 2,
   "id": "df27314a-90b2-4383-a7ad-dedf5d6ae6b2",
   "metadata": {},
   "outputs": [
    {
     "name": "stdout",
     "output_type": "stream",
     "text": [
      "pip 24.0 from C:\\Users\\SMART\\AppData\\Local\\anaconda3\\Lib\\site-packages\\pip (python 3.12)\n",
      "\n"
     ]
    }
   ],
   "source": [
    "#First we have to intall pygame \n",
    "!pip --version"
   ]
  },
  {
   "cell_type": "code",
   "execution_count": 6,
   "id": "310b4946-973d-4a79-be81-26b562920ec1",
   "metadata": {},
   "outputs": [
    {
     "name": "stdout",
     "output_type": "stream",
     "text": [
      "Requirement already satisfied: pygame in c:\\users\\smart\\appdata\\local\\anaconda3\\lib\\site-packages (2.6.1)\n"
     ]
    }
   ],
   "source": [
    "# This is intallation of Pygame {we have alrady install it}\n",
    "!pip install pygame"
   ]
  },
  {
   "cell_type": "code",
   "execution_count": 3,
   "id": "b169a575-4bcd-4279-905c-cc91f2463da9",
   "metadata": {},
   "outputs": [
    {
     "name": "stdout",
     "output_type": "stream",
     "text": [
      "pygame 2.6.1 (SDL 2.28.4, Python 3.12.4)\n",
      "Hello from the pygame community. https://www.pygame.org/contribute.html\n"
     ]
    }
   ],
   "source": [
    "# This is code for ower project\n",
    "import pygame\n",
    "import time\n",
    "import random\n",
    "\n",
    "# Initialize pygame\n",
    "pygame.init()\n",
    "\n",
    "# Define colors\n",
    "white = (255, 255, 255)\n",
    "yellow = (255, 255, 102)\n",
    "black = (0, 0, 0)\n",
    "red = (213, 50, 80)\n",
    "green = (0, 255, 0)\n",
    "blue = (50, 153, 213)\n",
    "\n",
    "# Set screen width and height\n",
    "width = 600\n",
    "height = 400\n",
    "\n",
    "# Create the game screen\n",
    "screen = pygame.display.set_mode((width, height))\n",
    "pygame.display.set_caption('Snake Game')\n",
    "\n",
    "# Set the snake block size and speed\n",
    "snake_block = 10\n",
    "snake_speed = 15\n",
    "\n",
    "# Set up the font for the score\n",
    "font_style = pygame.font.SysFont(\"bahnschrift\", 25)\n",
    "score_font = pygame.font.SysFont(\"comicsansms\", 35)\n",
    "\n",
    "# Function to display the current score\n",
    "def your_score(score):\n",
    "    value = score_font.render(\"Your Score: \" + str(score), True, black)\n",
    "    screen.blit(value, [0, 0])\n",
    "\n",
    "# Function to draw the snake\n",
    "def our_snake(snake_block, snake_list):\n",
    "    for x in snake_list:\n",
    "        pygame.draw.rect(screen, green, [x[0], x[1], snake_block, snake_block])\n",
    "\n",
    "# Function to display messages\n",
    "def message(msg, color):\n",
    "    mesg = font_style.render(msg, True, color)\n",
    "    screen.blit(mesg, [width / 6, height / 3])\n",
    "\n",
    "# Main game loop\n",
    "def gameLoop():\n",
    "    game_over = False\n",
    "    game_close = False\n",
    "\n",
    "    # Initial snake position\n",
    "    x1 = width / 2\n",
    "    y1 = height / 2\n",
    "\n",
    "    # Snake movement change (initially no movement)\n",
    "    x1_change = 0\n",
    "    y1_change = 0\n",
    "\n",
    "    # Snake body (list of coordinates)\n",
    "    snake_List = []\n",
    "    Length_of_snake = 1\n",
    "\n",
    "    # Create food at a random position\n",
    "    foodx = round(random.randrange(0, width - snake_block) / 10.0) * 10.0\n",
    "    foody = round(random.randrange(0, height - snake_block) / 10.0) * 10.0\n",
    "\n",
    "    # Game loop\n",
    "    while not game_over:\n",
    "\n",
    "        while game_close:\n",
    "            screen.fill(blue)\n",
    "            message(\"You Lost! Press Q-Quit or C-Play Again\", red)\n",
    "            your_score(Length_of_snake - 1)\n",
    "            pygame.display.update()\n",
    "\n",
    "            # Check for user input (Q to quit, C to play again)\n",
    "            for event in pygame.event.get():\n",
    "                if event.type == pygame.KEYDOWN:\n",
    "                    if event.key == pygame.K_q:\n",
    "                        game_over = True\n",
    "                        game_close = False\n",
    "                    if event.key == pygame.K_c:\n",
    "                        gameLoop()\n",
    "\n",
    "        # Check for events (key press)\n",
    "        for event in pygame.event.get():\n",
    "            if event.type == pygame.QUIT:\n",
    "                game_over = True\n",
    "            if event.type == pygame.KEYDOWN:\n",
    "                if event.key == pygame.K_LEFT:\n",
    "                    x1_change = -snake_block\n",
    "                    y1_change = 0\n",
    "                elif event.key == pygame.K_RIGHT:\n",
    "                    x1_change = snake_block\n",
    "                    y1_change = 0\n",
    "                elif event.key == pygame.K_UP:\n",
    "                    y1_change = -snake_block\n",
    "                    x1_change = 0\n",
    "                elif event.key == pygame.K_DOWN:\n",
    "                    y1_change = snake_block\n",
    "                    x1_change = 0\n",
    "\n",
    "        # Check for snake boundaries\n",
    "        if x1 >= width or x1 < 0 or y1 >= height or y1 < 0:\n",
    "            game_close = True\n",
    "        x1 += x1_change\n",
    "        y1 += y1_change\n",
    "        screen.fill(blue)\n",
    "\n",
    "        # Draw the food\n",
    "        pygame.draw.rect(screen, yellow, [foodx, foody, snake_block, snake_block])\n",
    "\n",
    "        # Add new snake head to the body\n",
    "        snake_Head = []\n",
    "        snake_Head.append(x1)\n",
    "        snake_Head.append(y1)\n",
    "        snake_List.append(snake_Head)\n",
    "\n",
    "        # Remove the tail (if the snake is getting longer)\n",
    "        if len(snake_List) > Length_of_snake:\n",
    "            del snake_List[0]\n",
    "\n",
    "        # Check if the snake collides with itself\n",
    "        for x in snake_List[:-1]:\n",
    "            if x == snake_Head:\n",
    "                game_close = True\n",
    "\n",
    "        # Draw the snake\n",
    "        our_snake(snake_block, snake_List)\n",
    "        your_score(Length_of_snake - 1)\n",
    "\n",
    "        pygame.display.update()\n",
    "\n",
    "        # Check if the snake eats the food\n",
    "        if x1 == foodx and y1 == foody:\n",
    "            foodx = round(random.randrange(0, width - snake_block) / 10.0) * 10.0\n",
    "            foody = round(random.randrange(0, height - snake_block) / 10.0) * 10.0\n",
    "            Length_of_snake += 1\n",
    "\n",
    "        # Control the snake speed\n",
    "        pygame.time.Clock().tick(snake_speed)\n",
    "\n",
    "    # Quit the game\n",
    "    pygame.quit()\n",
    "    quit()\n",
    "\n",
    "# Start the game\n",
    "gameLoop()\n"
   ]
  },
  {
   "cell_type": "code",
   "execution_count": null,
   "id": "b07a6105-4990-42bc-9db7-fd011452a93d",
   "metadata": {},
   "outputs": [],
   "source": []
  }
 ],
 "metadata": {
  "kernelspec": {
   "display_name": "Python 3 (ipykernel)",
   "language": "python",
   "name": "python3"
  },
  "language_info": {
   "codemirror_mode": {
    "name": "ipython",
    "version": 3
   },
   "file_extension": ".py",
   "mimetype": "text/x-python",
   "name": "python",
   "nbconvert_exporter": "python",
   "pygments_lexer": "ipython3",
   "version": "3.12.4"
  }
 },
 "nbformat": 4,
 "nbformat_minor": 5
}
